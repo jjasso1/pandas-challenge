{
 "cells": [
  {
   "cell_type": "markdown",
   "metadata": {},
   "source": [
    "# 1 \n",
    "My first observation is the males spend both an excessive amount of money and time on playing games. \n",
    "# 2 \n",
    "The age group between 15-29 spend the most money and time. Particularly, between 20-24 years due to financially and economically decisions. \n",
    "# 3 \n",
    "The most popular was the final critic and oathbreaker, Last Hope of the Breaking Storms "
   ]
  }
 ],
 "metadata": {
  "kernelspec": {
   "display_name": "Python [conda env:anaconda3second-PythonData] *",
   "language": "python",
   "name": "conda-env-anaconda3second-PythonData-py"
  },
  "language_info": {
   "codemirror_mode": {
    "name": "ipython",
    "version": 3
   },
   "file_extension": ".py",
   "mimetype": "text/x-python",
   "name": "python",
   "nbconvert_exporter": "python",
   "pygments_lexer": "ipython3",
   "version": "3.8.3"
  }
 },
 "nbformat": 4,
 "nbformat_minor": 4
}
